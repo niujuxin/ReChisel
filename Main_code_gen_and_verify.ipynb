{
 "cells": [
  {
   "cell_type": "code",
   "execution_count": 1,
   "id": "3a55faae",
   "metadata": {},
   "outputs": [
    {
     "name": "stdout",
     "output_type": "stream",
     "text": [
      "I would like you to implement a module named TopModule with the following\n",
      "interface. All input and output ports are one bit unless otherwise\n",
      "specified.\n",
      "\n",
      " - input  in  (255 bits)\n",
      " - output out (  8 bits)\n",
      "\n",
      "A \"population count\" circuit counts the number of '1's in an input\n",
      "vector. The module should implement a population count circuit for a\n",
      "255-bit input vector.\n"
     ]
    }
   ],
   "source": [
    "\n",
    "from pathlib import Path\n",
    "from ReChisel.testcase import Testcase\n",
    "\n",
    "bm = 'verilog-eval'\n",
    "\n",
    "if bm == 'verilog-eval':\n",
    "    bmcase = Testcase(\n",
    "        'Prob030_popcount255', \n",
    "        'benchmarks/VerilogEval_sample/Prob030_popcount255_spec.txt',\n",
    "        'benchmarks/VerilogEval_sample/Prob030_popcount255_ref.sv',\n",
    "        'benchmarks/VerilogEval_sample/Prob030_popcount255_tb.sv'\n",
    "    )\n",
    "    output_dir = Path('output/VerilogEval/')\n",
    "    output_dir.mkdir(parents=True, exist_ok=True)\n",
    "\n",
    "elif bm == 'autochip':\n",
    "    bmcase = Testcase(\n",
    "        'Vector5',\n",
    "        'benchmarks/AutoChip_sample/Vector5_spec.txt',\n",
    "        None, # No reference file provided\n",
    "        'benchmarks/AutoChip_sample/Vector5_0_tb.v'\n",
    "    )\n",
    "    output_dir = Path('output/AutoChip/')\n",
    "    output_dir.mkdir(parents=True, exist_ok=True)\n",
    "\n",
    "\n",
    "print(bmcase.specification)"
   ]
  },
  {
   "cell_type": "code",
   "execution_count": 2,
   "id": "d35c988b",
   "metadata": {},
   "outputs": [
    {
     "name": "stderr",
     "output_type": "stream",
     "text": [
      "/home/niujuxin/anaconda3/lib/python3.12/site-packages/pydantic/_internal/_fields.py:132: UserWarning: Field \"model_arn\" in BedrockRerank has conflict with protected namespace \"model_\".\n",
      "\n",
      "You may be able to resolve this warning by setting `model_config['protected_namespaces'] = ()`.\n",
      "  warnings.warn(\n"
     ]
    },
    {
     "name": "stdout",
     "output_type": "stream",
     "text": [
      "package TopModule\n",
      "\n",
      "import chisel3._\n",
      "import chisel3.util._\n",
      "\n",
      "import chisel3.stage.ChiselStage\n",
      "\n",
      "class TopModule extends Module {\n",
      "  val io = IO(new Bundle {\n",
      "    val in = Input(UInt(255.W))  // 255-bit input vector\n",
      "    val out = Output(UInt(8.W))   // 8-bit output for population count\n",
      "  })\n",
      "\n",
      "  // Population count logic using built-in method\n",
      "  io.out := PopCount(io.in).asUInt() // Count number of '1's and convert to 8-bit\n",
      "}\n",
      "\n",
      "object Main extends App {\n",
      "    (new ChiselStage).emitVerilog(\n",
      "      new TopModule,\n",
      "      Array(\n",
      "        \"--target-dir\", \"generated\",\n",
      "        \"--emission-options=disableMemRandomization,disableRegisterRandomization\",\n",
      "      )\n",
      "    )\n",
      "}\n",
      "\n"
     ]
    }
   ],
   "source": [
    "\n",
    "from rechisel import initial_chisel_generation\n",
    "from ReChisel.chisel_code import ChiselCode\n",
    "\n",
    "\n",
    "target_path = output_dir / 'gen.scala'\n",
    "chisel_code: ChiselCode = initial_chisel_generation(bmcase, 'TopModule')\n",
    "target_path.write_text(chisel_code.decorated)\n",
    "\n",
    "print(chisel_code.decorated)\n"
   ]
  },
  {
   "cell_type": "code",
   "execution_count": 3,
   "id": "85a4963c",
   "metadata": {},
   "outputs": [
    {
     "data": {
      "text/plain": [
       "False"
      ]
     },
     "execution_count": 3,
     "metadata": {},
     "output_type": "execute_result"
    }
   ],
   "source": [
    "\n",
    "from ReChisel.verifier import Verifier, VerifierWorkingSpace, VerifyResult\n",
    "\n",
    "\n",
    "working_space = VerifierWorkingSpace(output_dir / 'chisel', output_dir / 'iv')\n",
    "verifier = Verifier(working_space, bm)\n",
    "\n",
    "is_ok = (\n",
    "    verifier.prepare(chisel_code, bmcase) and\n",
    "    verifier.compile() and\n",
    "    verifier.iv() and\n",
    "    verifier.vvp() and\n",
    "    verifier.functionality()\n",
    ")\n",
    "verify_result: VerifyResult = verifier.result\n",
    "\n",
    "is_ok"
   ]
  },
  {
   "cell_type": "code",
   "execution_count": 4,
   "id": "164d2532",
   "metadata": {},
   "outputs": [
    {
     "name": "stdout",
     "output_type": "stream",
     "text": [
      "{'functionality_correct': False,\n",
      " 'iv_error': '',\n",
      " 'iv_success': False,\n",
      " 'sbt_error': '[error] '\n",
      "              '/home/niujuxin/github_repo/ReChisel/output/VerilogEval/chisel/src/main/scala/Main.scala:15:29: '\n",
      "              'overloaded method apply with alternatives:\\n'\n",
      "              '[error]   (x: BigInt,y: BigInt)chisel3.UInt <and>\\n'\n",
      "              '[error]   (x: Int,y: Int)chisel3.UInt <and>\\n'\n",
      "              '[error]   (x: chisel3.UInt)chisel3.Bool <and>\\n'\n",
      "              '[error]   (x: Int)chisel3.Bool <and>\\n'\n",
      "              '[error]   (x: BigInt)chisel3.Bool\\n'\n",
      "              '[error]  cannot be applied to ()\\n'\n",
      "              '[error]   io.out := PopCount(io.in).asUInt() // Count number of '\n",
      "              \"'1's and convert to 8-bit\\n\"\n",
      "              '[error]                             ^\\n'\n",
      "              '[error] one error found\\n'\n",
      "              '[error] (Compile / compileIncremental) Compilation failed\\n'\n",
      "              '[error] Total time: 1 s, completed 2025年6月29日 上午7:15:17',\n",
      " 'sbt_success': False,\n",
      " 'verilog_code': '',\n",
      " 'vvp_output': '',\n",
      " 'vvp_success': False}\n"
     ]
    }
   ],
   "source": [
    "from pprint import pprint\n",
    "\n",
    "pprint(verify_result.__dict__)"
   ]
  }
 ],
 "metadata": {
  "kernelspec": {
   "display_name": "base",
   "language": "python",
   "name": "python3"
  },
  "language_info": {
   "codemirror_mode": {
    "name": "ipython",
    "version": 3
   },
   "file_extension": ".py",
   "mimetype": "text/x-python",
   "name": "python",
   "nbconvert_exporter": "python",
   "pygments_lexer": "ipython3",
   "version": "3.12.2"
  }
 },
 "nbformat": 4,
 "nbformat_minor": 5
}
