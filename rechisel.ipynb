{
 "cells": [
  {
   "cell_type": "code",
   "execution_count": 18,
   "id": "3a55faae",
   "metadata": {},
   "outputs": [
    {
     "name": "stdout",
     "output_type": "stream",
     "text": [
      "I would like you to implement a module named `TopModule` with the following interface. \n",
      "All input and output ports are one bit wide unless otherwise specified.\n",
      "\n",
      "Module Name: `TopModule`\n",
      "Ports:\n",
      "  input a,\n",
      "  input b,\n",
      "  input c,\n",
      "  input d,\n",
      "  input e,\n",
      "  output [24:0] out\n",
      "\n",
      "Given five 1-bit signals (a, b, c, d, and e), compute all 25 pairwise one-bit comparisons in the 25-bit output vector. \n",
      "The output should be 1 if the two bits being compared are equal.\n",
      "\n",
      "Hint: \n",
      "out[24] = ~a ^ a;   // a == a, so out[24] is always 1.\n",
      "out[23] = ~a ^ b;\n",
      "out[22] = ~a ^ c;\n",
      "...\n"
     ]
    }
   ],
   "source": [
    "\n",
    "from pathlib import Path\n",
    "from benchmark import BenchmarkCase\n",
    "\n",
    "bm = 'autochip'\n",
    "\n",
    "if bm == 'verilog-eval':\n",
    "    bmcase = BenchmarkCase(\n",
    "        'Prob030_popcount255', \n",
    "        'benchmarks/VerilogEval_sample/Prob030_popcount255_spec.txt',\n",
    "        'benchmarks/VerilogEval_sample/Prob030_popcount255_ref.sv',\n",
    "        'benchmarks/VerilogEval_sample/Prob030_popcount255_tb.sv'\n",
    "    )\n",
    "    output_dir = Path('output/VerilogEval/')\n",
    "    output_dir.mkdir(parents=True, exist_ok=True)\n",
    "\n",
    "elif bm == 'autochip':\n",
    "    bmcase = BenchmarkCase(\n",
    "        'Vector5',\n",
    "        'benchmarks/AutoChip_sample/Vector5_spec.txt',\n",
    "        None, # No reference file provided\n",
    "        'benchmarks/AutoChip_sample/Vector5_0_tb.v'\n",
    "    )\n",
    "    output_dir = Path('output/AutoChip/')\n",
    "    output_dir.mkdir(parents=True, exist_ok=True)\n",
    "\n",
    "\n",
    "print(bmcase.specification)"
   ]
  },
  {
   "cell_type": "code",
   "execution_count": 19,
   "id": "d35c988b",
   "metadata": {},
   "outputs": [
    {
     "name": "stdout",
     "output_type": "stream",
     "text": [
      "package TopModule\n",
      "\n",
      "import chisel3._\n",
      "import chisel3.util._\n",
      "\n",
      "import chisel3.stage.ChiselStage\n",
      "\n",
      "class TopModule extends RawModule {\n",
      "  // Input ports\n",
      "  val a = IO(Input(Bool()))\n",
      "  val b = IO(Input(Bool()))\n",
      "  val c = IO(Input(Bool()))\n",
      "  val d = IO(Input(Bool()))\n",
      "  val e = IO(Input(Bool()))\n",
      "\n",
      "  // Output port\n",
      "  val out = IO(Output(UInt(25.W)))\n",
      "\n",
      "  // Compute pairwise comparisons\n",
      "  out := Cat(\n",
      "    ~a ^ e,  // out[0] = e == a\n",
      "    ~a ^ d,  // out[1] = d == a\n",
      "    ~a ^ c,  // out[2] = c == a\n",
      "    ~a ^ b,  // out[3] = b == a\n",
      "    ~a ^ a,  // out[4] = a == a (always 1)\n",
      "    ~b ^ e,  // out[5] = e == b\n",
      "    ~b ^ d,  // out[6] = d == b\n",
      "    ~b ^ c,  // out[7] = c == b\n",
      "    ~b ^ a,  // out[8] = a == b\n",
      "    ~b ^ b,  // out[9] = b == b (always 1)\n",
      "    ~c ^ e,  // out[10] = e == c\n",
      "    ~c ^ d,  // out[11] = d == c\n",
      "    ~c ^ b,  // out[12] = b == c\n",
      "    ~c ^ a,  // out[13] = a == c\n",
      "    ~c ^ c,  // out[14] = c == c (always 1)\n",
      "    ~d ^ e,  // out[15] = e == d\n",
      "    ~d ^ c,  // out[16] = c == d\n",
      "    ~d ^ b,  // out[17] = b == d\n",
      "    ~d ^ a,  // out[18] = a == d\n",
      "    ~d ^ d,  // out[19] = d == d (always 1)\n",
      "    ~e ^ e,  // out[20] = e == e (always 1)\n",
      "    ~e ^ d,  // out[21] = d == e\n",
      "    ~e ^ c,  // out[22] = c == e\n",
      "    ~e ^ b,  // out[23] = b == e\n",
      "    ~e ^ a   // out[24] = a == e\n",
      "  )\n",
      "}\n",
      "\n",
      "object Main extends App {\n",
      "    (new ChiselStage).emitVerilog(\n",
      "      new TopModule,\n",
      "      Array(\n",
      "        \"--target-dir\", \"generated\",\n",
      "        \"--emission-options=disableMemRandomization,disableRegisterRandomization\",\n",
      "      )\n",
      "    )\n",
      "}\n",
      "\n"
     ]
    }
   ],
   "source": [
    "\n",
    "from rechisel import initial_chisel_generation\n",
    "from rechisel_chisel import ChiselCode\n",
    "\n",
    "\n",
    "target_path = output_dir / 'gen.scala'\n",
    "\n",
    "if target_path.exists():\n",
    "    chisel_code = ChiselCode(f\"```scala\\n\\n{target_path.read_text()}\\n\\n```\", 'TopModule')\n",
    "else:\n",
    "    chisel_code = initial_chisel_generation(bmcase, 'TopModule')\n",
    "    target_path.write_text(chisel_code.decorated)\n",
    "\n",
    "print(chisel_code.decorated)\n"
   ]
  },
  {
   "cell_type": "code",
   "execution_count": 20,
   "id": "85a4963c",
   "metadata": {},
   "outputs": [
    {
     "data": {
      "text/plain": [
       "False"
      ]
     },
     "execution_count": 20,
     "metadata": {},
     "output_type": "execute_result"
    }
   ],
   "source": [
    "\n",
    "from rechisel_verifier import Verifier, VerifierWorkingSpace, VerifyResult\n",
    "\n",
    "\n",
    "verifier = Verifier(\n",
    "    VerifierWorkingSpace(str(output_dir / 'chisel'), str(output_dir / 'iv')),\n",
    "    bm\n",
    ")\n",
    "\n",
    "is_ok = (\n",
    "    verifier.prepare(chisel_code, bmcase) and\n",
    "    verifier.compile() and\n",
    "    verifier.iv() and\n",
    "    verifier.vvp() and\n",
    "    verifier.functionality()\n",
    ")\n",
    "verify_result: VerifyResult = verifier.result\n",
    "\n",
    "is_ok"
   ]
  },
  {
   "cell_type": "code",
   "execution_count": 21,
   "id": "164d2532",
   "metadata": {},
   "outputs": [],
   "source": [
    "import json\n",
    "\n",
    "with open(output_dir / 'verify.json', 'w') as fp:\n",
    "    json.dump(verify_result.__dict__, fp, indent=2)"
   ]
  }
 ],
 "metadata": {
  "kernelspec": {
   "display_name": "base",
   "language": "python",
   "name": "python3"
  },
  "language_info": {
   "codemirror_mode": {
    "name": "ipython",
    "version": 3
   },
   "file_extension": ".py",
   "mimetype": "text/x-python",
   "name": "python",
   "nbconvert_exporter": "python",
   "pygments_lexer": "ipython3",
   "version": "3.12.7"
  }
 },
 "nbformat": 4,
 "nbformat_minor": 5
}
