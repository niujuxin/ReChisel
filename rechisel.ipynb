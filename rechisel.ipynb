{
 "cells": [
  {
   "cell_type": "code",
   "execution_count": 3,
   "id": "3a55faae",
   "metadata": {},
   "outputs": [
    {
     "name": "stdout",
     "output_type": "stream",
     "text": [
      "I would like you to implement a module named TopModule with the following\n",
      "interface. All input and output ports are one bit unless otherwise\n",
      "specified.\n",
      "\n",
      " - input  in  (255 bits)\n",
      " - output out (  8 bits)\n",
      "\n",
      "A \"population count\" circuit counts the number of '1's in an input\n",
      "vector. The module should implement a population count circuit for a\n",
      "255-bit input vector.\n"
     ]
    }
   ],
   "source": [
    "\n",
    "from benchmark import BenchmarkCase\n",
    "\n",
    "\n",
    "bmcase = BenchmarkCase(\n",
    "    'Prob030_popcount255', \n",
    "    'benchmarks/sample/Prob030_popcount255_spec.txt',\n",
    "    'benchmarks/sample/Prob030_popcount255_ref.sv',\n",
    "    'benchmarks/sample/Prob030_popcount255_tb.sv'\n",
    ")\n",
    "\n",
    "print(bmcase.specification)"
   ]
  },
  {
   "cell_type": "code",
   "execution_count": 4,
   "id": "d35c988b",
   "metadata": {},
   "outputs": [
    {
     "name": "stdout",
     "output_type": "stream",
     "text": [
      "package TopModule\n",
      "\n",
      "import chisel3._\n",
      "import chisel3.util._\n",
      "\n",
      "import chisel3.stage.ChiselStage\n",
      "\n",
      "class TopModule extends RawModule {\n",
      "  // Define the input and output ports\n",
      "  val in = IO(Input(UInt(255.W))) // 255-bit input\n",
      "  val out = IO(Output(UInt(8.W)))  // 8-bit output for population count\n",
      "\n",
      "  // Implement the population count\n",
      "  out := PopCount(in) // PopCount calculates the number of '1's in the input vector\n",
      "}\n",
      "\n",
      "object Main extends App {\n",
      "    (new ChiselStage).emitVerilog(\n",
      "      new TopModule,\n",
      "      Array(\n",
      "        \"--target-dir\", \"generated\",\n",
      "        \"--emission-options=disableMemRandomization,disableRegisterRandomization\",\n",
      "      )\n",
      "    )\n",
      "}\n",
      "\n"
     ]
    }
   ],
   "source": [
    "\n",
    "from pathlib import Path\n",
    "from rechisel import initial_chisel_generation\n",
    "from rechisel_chisel import ChiselCode\n",
    "\n",
    "\n",
    "target_path = Path('output/gen.scala')\n",
    "\n",
    "if target_path.exists():\n",
    "    chisel_code = ChiselCode(f\"```scala\\n\\n{target_path.read_text()}\\n\\n```\", 'TopModule')\n",
    "else:\n",
    "    chisel_code = initial_chisel_generation(bmcase, 'TopModule')\n",
    "    target_path.write_text(chisel_code.decorated)\n",
    "\n",
    "print(chisel_code.decorated)\n"
   ]
  },
  {
   "cell_type": "code",
   "execution_count": 5,
   "id": "85a4963c",
   "metadata": {},
   "outputs": [
    {
     "data": {
      "text/plain": [
       "True"
      ]
     },
     "execution_count": 5,
     "metadata": {},
     "output_type": "execute_result"
    }
   ],
   "source": [
    "\n",
    "from rechisel_verifier import Verifier, VerifierWorkingSpace, VerifyResult\n",
    "\n",
    "\n",
    "verifier = Verifier(\n",
    "    VerifierWorkingSpace('output/chisel', 'output/iv'),\n",
    "    'verilog-eval'\n",
    ")\n",
    "\n",
    "is_ok = (\n",
    "    verifier.prepare(chisel_code, bmcase) and\n",
    "    verifier.compile() and\n",
    "    verifier.iv() and\n",
    "    verifier.vvp() and\n",
    "    verifier.functionality()\n",
    ")\n",
    "verify_result: VerifyResult = verifier.result\n",
    "\n",
    "is_ok"
   ]
  },
  {
   "cell_type": "code",
   "execution_count": 6,
   "id": "164d2532",
   "metadata": {},
   "outputs": [],
   "source": [
    "import json\n",
    "\n",
    "with open('output/verify.json', 'w') as fp:\n",
    "    json.dump(verify_result.__dict__, fp, indent=2)"
   ]
  }
 ],
 "metadata": {
  "kernelspec": {
   "display_name": "base",
   "language": "python",
   "name": "python3"
  },
  "language_info": {
   "codemirror_mode": {
    "name": "ipython",
    "version": 3
   },
   "file_extension": ".py",
   "mimetype": "text/x-python",
   "name": "python",
   "nbconvert_exporter": "python",
   "pygments_lexer": "ipython3",
   "version": "3.12.7"
  }
 },
 "nbformat": 4,
 "nbformat_minor": 5
}
