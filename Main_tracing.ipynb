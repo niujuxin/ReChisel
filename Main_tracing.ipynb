{
 "cells": [
  {
   "cell_type": "code",
   "execution_count": 1,
   "id": "769bfe77",
   "metadata": {},
   "outputs": [
    {
     "name": "stdout",
     "output_type": "stream",
     "text": [
      "I would like you to implement a module named TopModule with the following\n",
      "interface. All input and output ports are one bit unless otherwise\n",
      "specified.\n",
      "\n",
      " - input  in  (255 bits)\n",
      " - output out (  8 bits)\n",
      "\n",
      "A \"population count\" circuit counts the number of '1's in an input\n",
      "vector. The module should implement a population count circuit for a\n",
      "255-bit input vector.\n"
     ]
    }
   ],
   "source": [
    "\n",
    "from pathlib import Path\n",
    "\n",
    "from ReChisel.testcase import Testcase\n",
    "from ReChisel.chisel_code import ChiselCode\n",
    "from ReChisel.verifier import VerifyResult, verify\n",
    "\n",
    "\n",
    "bmcase = Testcase(\n",
    "    'Prob030_popcount255', \n",
    "    'benchmarks/VerilogEval_Prob030/Prob030_popcount255_spec.txt',\n",
    "    'benchmarks/VerilogEval_Prob030/Prob030_popcount255_ref.sv',\n",
    "    'benchmarks/VerilogEval_Prob030/Prob030_popcount255_tb.sv'\n",
    ")\n",
    "print(bmcase.specification)\n"
   ]
  },
  {
   "cell_type": "code",
   "execution_count": 2,
   "id": "3b259633",
   "metadata": {},
   "outputs": [
    {
     "name": "stderr",
     "output_type": "stream",
     "text": [
      "/home/niujuxin/anaconda3/lib/python3.12/site-packages/pydantic/_internal/_fields.py:132: UserWarning: Field \"model_arn\" in BedrockRerank has conflict with protected namespace \"model_\".\n",
      "\n",
      "You may be able to resolve this warning by setting `model_config['protected_namespaces'] = ()`.\n",
      "  warnings.warn(\n"
     ]
    }
   ],
   "source": [
    "\n",
    "from ReChisel.generator import Generator\n",
    "from ReChisel.reviewer import Reviewer\n",
    "from ReChisel.tracing import Tracing\n",
    "\n",
    "\n",
    "generator = Generator(\n",
    "    init_gen_system_prompt=Path('prompts/chisel_generation.txt').read_text(encoding='utf-8'),\n",
    "    init_gen_model='gpt-4o-mini',\n",
    "    syntax_correction_system_prompt=Path('prompts/syntax_correction.txt').read_text(encoding='utf-8'),\n",
    "    functionality_correction_system_prompt=Path('prompts/functionality_correction.txt').read_text(encoding='utf-8'),\n",
    "    correction_model='gpt-4o-mini',\n",
    "    verbose=False\n",
    ")\n",
    "generator.testcase_prepare(bmcase, 'TopModule')\n",
    "\n",
    "reviewer = Reviewer(\n",
    "    sbt_system_prompt=Path('prompts/syntax_sbt_reflection.txt').read_text(encoding='utf-8'),\n",
    "    iv_system_prompt=Path('prompts/syntax_iv_reflection.txt').read_text(encoding='utf-8'),\n",
    "    functionality_system_prompt=Path('prompts/functionality_reflection.txt').read_text(encoding='utf-8'),\n",
    "    model='gpt-4o-mini',\n",
    "    verbose=False\n",
    ")\n",
    "\n",
    "tracing = Tracing(\n",
    "    bmcase,\n",
    "    use_llm_summary=True,\n",
    "    llm_summary_model='gpt-4o-mini',\n",
    "    llm_summary_system_prompt=Path('prompts/attempt_summary.txt').read_text(encoding='utf-8'),\n",
    ")\n"
   ]
  },
  {
   "cell_type": "code",
   "execution_count": 3,
   "id": "3dec1e6e",
   "metadata": {},
   "outputs": [
    {
     "name": "stdout",
     "output_type": "stream",
     "text": [
      "Attempt 1...\n",
      "Attempt 2...\n",
      "Verification passed after 2 attempts, stopping the process.\n"
     ]
    }
   ],
   "source": [
    "\n",
    "from langchain_core.messages import AIMessage\n",
    "\n",
    "\n",
    "current_chisel_code: ChiselCode = None\n",
    "current_verify_result: VerifyResult = None\n",
    "current_reviewer_response: AIMessage = None\n",
    "attempt_count = 0\n",
    "\n",
    "while True:\n",
    "    print(f\"Attempt {attempt_count + 1}...\")\n",
    "    if current_reviewer_response is None:\n",
    "        generation_response = generator.initial_chisel_generation()\n",
    "    else:\n",
    "        generation_response = generator.correction_generation(\n",
    "            current_reviewer_response,\n",
    "            current_verify_result,\n",
    "            current_chisel_code\n",
    "        )\n",
    "    current_chisel_code = generator.code_extract(generation_response)\n",
    "\n",
    "    current_verify_result = verify(\n",
    "        current_chisel_code,\n",
    "        bmcase,\n",
    "        output_dir=Path('output/verification'),\n",
    "        bm_type='verilog-eval',\n",
    "        verbose=False\n",
    "    )\n",
    "\n",
    "    if current_verify_result.functionality_correct:\n",
    "        print(f\"Verification passed after {attempt_count + 1} attempts, stopping the process.\")\n",
    "        break\n",
    "    else:\n",
    "        current_reviewer_response = reviewer(bmcase, current_verify_result, current_chisel_code)\n",
    "\n",
    "        tracing.add_attempt(\n",
    "            current_chisel_code, \n",
    "            current_verify_result, \n",
    "            current_reviewer_response\n",
    "        )\n",
    "\n",
    "    attempt_count += 1\n",
    "    if attempt_count >= 3:\n",
    "        print(\"Maximum attempts reached, stopping the process.\")\n",
    "        break\n"
   ]
  },
  {
   "cell_type": "code",
   "execution_count": 4,
   "id": "5b6b87cf",
   "metadata": {},
   "outputs": [
    {
     "name": "stdout",
     "output_type": "stream",
     "text": [
      "======== Attempt 1 ========\n",
      "Chisel Code:\n",
      "```\n",
      "class TopModule extends RawModule {\n",
      "  // Define input and output ports\n",
      "  val in = IO(Input(UInt(255.W)))   // 255-bit input\n",
      "  val out = IO(Output(UInt(8.W)))    // 8-bit output\n",
      "\n",
      "  // Population count logic\n",
      "  out := PopCount(in).asUInt(8.W) // Count '1's in the input and restrict to 8 bits\n",
      "}\n",
      "```\n",
      "Summary:\n",
      "The error in the code arises from incorrectly using `asUInt(8.W)` with the `PopCount` result, which doesn't accept a width parameter. To fix this, change the line to `out := PopCount(in)(7, 0)` to correctly take the lower 8 bits of the population count.\n",
      "\n"
     ]
    }
   ],
   "source": [
    "\n",
    "for i, attempts in enumerate(tracing.last_k_attempts(-1)):\n",
    "    print(f\"======== Attempt {i + 1} ========\")\n",
    "    print(\"Chisel Code:\")\n",
    "    print(f\"```\\n{attempts.chisel_code.raw_stripped}\\n```\")\n",
    "    print(\"Summary:\")\n",
    "    print(attempts.summary)\n",
    "    print()\n"
   ]
  },
  {
   "cell_type": "code",
   "execution_count": 5,
   "id": "d2e6b244",
   "metadata": {},
   "outputs": [
    {
     "name": "stdout",
     "output_type": "stream",
     "text": [
      "Below are the most recent consecutive k attempts trying to implement this Chisel module. For each attempt, the corresponding code is provided along with a summary of the errors found in that version and the suggested modifications. \n",
      "\n",
      "NOTE: Please refer to these past attempts to avoid repeating the same mistakes.\n",
      "\n",
      "## Attempt 1\n",
      "\n",
      "Chisel Code (omitted):\n",
      "```scala\n",
      "class TopModule extends RawModule {\n",
      "  // Define input and output ports\n",
      "  val in = IO(Input(UInt(255.W)))   // 255-bit input\n",
      "  val out = IO(Output(UInt(8.W)))    // 8-bit output\n",
      "\n",
      "  // Population count logic\n",
      "  out := PopCount(in).asUInt(8.W) // Count '1's in the input and restrict to 8 bits\n",
      "}\n",
      "```\n",
      "Summary: The error in the code arises from incorrectly using `asUInt(8.W)` with the `PopCount` result, which doesn't accept a width parameter. To fix this, change the line to `out := PopCount(in)(7, 0)` to correctly take the lower 8 bits of the population count.\n",
      "\n",
      "\n"
     ]
    }
   ],
   "source": [
    "from ReChisel.tracing import in_context_attempt_history_format\n",
    "\n",
    "\n",
    "ictx_history = in_context_attempt_history_format(tracing, -1)\n",
    "print(ictx_history.content)\n"
   ]
  },
  {
   "cell_type": "code",
   "execution_count": 6,
   "id": "7cdac78c",
   "metadata": {},
   "outputs": [
    {
     "name": "stdout",
     "output_type": "stream",
     "text": [
      "Corrected Chisel Code:\n",
      "\n",
      "class TopModule extends RawModule {\n",
      "  // Define input and output ports\n",
      "  val in = IO(Input(UInt(255.W)))   // 255-bit input\n",
      "  val out = IO(Output(UInt(8.W)))    // 8-bit output\n",
      "\n",
      "  // Population count logic\n",
      "  out := PopCount(in)(7, 0) // Count '1's in the input and take the lower 8 bits\n",
      "}\n"
     ]
    }
   ],
   "source": [
    "print('Corrected Chisel Code:\\n')\n",
    "print(current_chisel_code.raw_stripped)"
   ]
  }
 ],
 "metadata": {
  "kernelspec": {
   "display_name": "base",
   "language": "python",
   "name": "python3"
  },
  "language_info": {
   "codemirror_mode": {
    "name": "ipython",
    "version": 3
   },
   "file_extension": ".py",
   "mimetype": "text/x-python",
   "name": "python",
   "nbconvert_exporter": "python",
   "pygments_lexer": "ipython3",
   "version": "3.12.2"
  }
 },
 "nbformat": 4,
 "nbformat_minor": 5
}
